{
 "cells": [
  {
   "cell_type": "markdown",
   "metadata": {},
   "source": [
    "# Dynamic Programming, Part 2"
   ]
  },
  {
   "cell_type": "markdown",
   "metadata": {},
   "source": [
    "In this notebook, we will cover two advanced dynamic programming problems: edit distance and knapsack."
   ]
  },
  {
   "cell_type": "code",
   "execution_count": 2,
   "metadata": {},
   "outputs": [
    {
     "name": "stdout",
     "output_type": "stream",
     "text": [
      "Defaulting to user installation because normal site-packages is not writeable\n",
      "Looking in indexes: https://pypi.tuna.tsinghua.edu.cn/simple\n",
      "Collecting pylev\n",
      "  Downloading https://pypi.tuna.tsinghua.edu.cn/packages/04/78/95cfe72991d22994f0ec5a3b742b31c95a28344d33e06b69406b68398a29/pylev-1.4.0-py2.py3-none-any.whl (6.1 kB)\n",
      "Installing collected packages: pylev\n",
      "Successfully installed pylev-1.4.0\n",
      "Defaulting to user installation because normal site-packages is not writeable\n",
      "Looking in indexes: https://pypi.tuna.tsinghua.edu.cn/simple\n",
      "Collecting knapsack\n",
      "  Downloading https://pypi.tuna.tsinghua.edu.cn/packages/f7/12/0ab665722f73befb7a6daca98d79026480bbfa11c49b326cfa0d8f4f5951/knapsack-0.0.7-py3-none-any.whl (2.8 kB)\n",
      "Installing collected packages: knapsack\n",
      "Successfully installed knapsack-0.0.7\n"
     ]
    }
   ],
   "source": [
    "!pip install pylev\n",
    "!pip install knapsack"
   ]
  },
  {
   "cell_type": "code",
   "execution_count": 3,
   "metadata": {},
   "outputs": [],
   "source": [
    "ok=\"\"\"\n",
    "         _          _                  _           _        \n",
    "        /\\ \\       / /\\               / /\\        / /\\      \n",
    "       /  \\ \\     / /  \\             / /  \\      / /  \\     \n",
    "      / /\\ \\ \\   / / /\\ \\           / / /\\ \\__  / / /\\ \\__  \n",
    "     / / /\\ \\_\\ / / /\\ \\ \\         / / /\\ \\___\\/ / /\\ \\___\\ \n",
    "    / / /_/ / // / /  \\ \\ \\        \\ \\ \\ \\/___/\\ \\ \\ \\/___/ \n",
    "   / / /__\\/ // / /___/ /\\ \\        \\ \\ \\       \\ \\ \\       \n",
    "  / / /_____// / /_____/ /\\ \\   _    \\ \\ \\  _    \\ \\ \\      \n",
    " / / /      / /_________/\\ \\ \\ /_/\\__/ / / /_/\\__/ / /      \n",
    "/ / /      / / /_       __\\ \\_\\\\ \\/___/ /  \\ \\/___/ /       \n",
    "\\/_/       \\_\\___\\     /____/_/ \\_____\\/    \\_____\\/        \n",
    "                                                            \n",
    "\"\"\""
   ]
  },
  {
   "cell_type": "markdown",
   "metadata": {},
   "source": [
    "## Edit distance\n",
    "\n",
    "The edit distance problem asks to find the minimal number of insertions, deletions and substitutions of characters required to transform one word into another. A big application of this problem is in spell checking. A spell checker can correct a word if it is not in a dictionary, but its edit distance to some word in the dictionary is small, which means that the user probably intended to use the word from the dictionary and misspelled it. As a refresher, you can read about what edit distance means and about the algorithm to compute it in the textbook: https://people.eecs.berkeley.edu/~vazirani/algorithms/chap6.pdf ."
   ]
  },
  {
   "cell_type": "markdown",
   "metadata": {},
   "source": [
    "There are two ways how you can store the answers to the subproblems in your dynamic programming problem:\n",
    "1. Using memoization\n",
    "2. Using a matrix\n",
    "\n",
    "We will try both approaches for the first problem."
   ]
  },
  {
   "cell_type": "markdown",
   "metadata": {},
   "source": [
    "### Memoization approach\n",
    "\n",
    "With memoization, you make the function remember answers to the subproblems that it had already solved. If you call the function on some arguments on which it had already been called earlier, it will not recompute the result, but take it out of its memory. One of the possible ways to implement memoization is the following:"
   ]
  },
  {
   "cell_type": "code",
   "execution_count": 31,
   "metadata": {},
   "outputs": [
    {
     "name": "stdout",
     "output_type": "stream",
     "text": [
      "ab\n"
     ]
    }
   ],
   "source": [
    "s = \"ab\"\n",
    "print(s[:2])"
   ]
  },
  {
   "cell_type": "code",
   "execution_count": 34,
   "metadata": {},
   "outputs": [],
   "source": [
    "def edit_distance_memo(x, y):\n",
    "    \"\"\"\n",
    "    Return the number of insertions, deletions and substitutions required to transform x into y.\n",
    "    x and y are two strings. Use the memoized approach with storing results to subproblems in\n",
    "    a dictionary.\n",
    "    \n",
    "    x: The first word.\n",
    "    y: The second word.\n",
    "    Return value: The number of insertions, deletions and substitutions to transform the first\n",
    "    word into the second word.\n",
    "    \"\"\"\n",
    "    def edit_distance_memo_helper(x, y, memo):\n",
    "        if (x, y) in memo:\n",
    "            return memo[(x, y)]\n",
    "        else:\n",
    "            # do the actual computation\n",
    "            # store the answer in memo[(x, y)]\n",
    "            \"\"\"YOUR CODE HERE\"\"\"\n",
    "            for i in range(len(x)+1):\n",
    "                memo[(x[:i], \"\")] = i\n",
    "            for j in range(1, len(y)+1):\n",
    "                memo[(\"\", y[:j])] = j\n",
    "            for i in range(1, len(x)+1):\n",
    "                for j in range(1, len(y)+1):\n",
    "                    memo[(x[:i], y[:j])] = min(memo[(x[:i-1], y[:j])] + 1, memo[(x[:i], y[:j-1])] + 1, int(x[i-1] != y[j-1]) + memo[(x[:i-1], y[:j-1])])\n",
    "            return memo[(x, y)]\n",
    "    memo = {}\n",
    "    return edit_distance_memo_helper(x, y, memo)"
   ]
  },
  {
   "cell_type": "markdown",
   "metadata": {},
   "source": [
    "Run the following cell to verify that your solution is correct. The matrix approach should take a couple of seconds, while the memoized approach should take around half a minute to run."
   ]
  },
  {
   "cell_type": "code",
   "execution_count": 35,
   "metadata": {},
   "outputs": [
    {
     "name": "stdout",
     "output_type": "stream",
     "text": [
      "\n",
      "         _          _                  _           _        \n",
      "        /\\ \\       / /\\               / /\\        / /\\      \n",
      "       /  \\ \\     / /  \\             / /  \\      / /  \\     \n",
      "      / /\\ \\ \\   / / /\\ \\           / / /\\ \\__  / / /\\ \\__  \n",
      "     / / /\\ \\_\\ / / /\\ \\ \\         / / /\\ \\___\\/ / /\\ \\___\\ \n",
      "    / / /_/ / // / /  \\ \\ \\        \\ \\ \\ \\/___/\\ \\ \\ \\/___/ \n",
      "   / / /__\\/ // / /___/ /\\ \\        \\ \\ \\       \\ \\ \\       \n",
      "  / / /_____// / /_____/ /\\ \\   _    \\ \\ \\  _    \\ \\ \\      \n",
      " / / /      / /_________/\\ \\ \\ /_/\\__/ / / /_/\\__/ / /      \n",
      "/ / /      / / /_       __\\ \\_\\ \\/___/ /  \\ \\/___/ /       \n",
      "\\/_/       \\_\\___\\     /____/_/ \\_____\\/    \\_____\\/        \n",
      "                                                            \n",
      "\n"
     ]
    }
   ],
   "source": [
    "import string\n",
    "import random\n",
    "import pylev\n",
    "\n",
    "NUM_TRIALS = 10\n",
    "LETTERS = string.ascii_lowercase\n",
    "MIN_WORD_SIZE = 200\n",
    "MAX_WORD_SIZE = 400\n",
    "\n",
    "def verify_correctness_of_edit_distance():\n",
    "    letters = string.ascii_lowercase\n",
    "    for i in range(NUM_TRIALS):\n",
    "        word1_size = random.randint(MIN_WORD_SIZE, MAX_WORD_SIZE)\n",
    "        word2_size = random.randint(MIN_WORD_SIZE, MAX_WORD_SIZE)\n",
    "        word1 = ''.join(random.choice(letters) for i in range(word1_size))\n",
    "        word2 = ''.join(random.choice(letters) for i in range(word2_size))\n",
    "        student_distance = edit_distance_memo(word1, word2)\n",
    "        staff_distance = pylev.levenshtein(word1, word2)\n",
    "        if student_distance != staff_distance:\n",
    "            print('FAIL: on input word1=%s, word2=%s, expected %d, got %d'%(word1, word2, staff_distance, student_distance))\n",
    "        assert edit_distance_memo(word1, word2) == pylev.levenshtein(word1, word2)\n",
    "    print(ok)\n",
    "\n",
    "verify_correctness_of_edit_distance()"
   ]
  },
  {
   "cell_type": "markdown",
   "metadata": {},
   "source": [
    "### Matrix approach\n",
    "\n",
    "In a matrix approach, you store the answer to the subproblem at some entry of the matrix. In the case of edit distance, the subproblems are \"edit distance for x[1...i] and y[1...j]\", so a reasonable approach would be to make a matrix *subproblems* and let *subproblems[i][j] = edit distance for x[1...i] and y[1...j]* (think how you would deal with the base case of an empty string with this approach)."
   ]
  },
  {
   "cell_type": "markdown",
   "metadata": {},
   "source": [
    "The matrix approach is generally more popular than the memoization approach."
   ]
  },
  {
   "cell_type": "code",
   "execution_count": 50,
   "metadata": {},
   "outputs": [],
   "source": [
    "def edit_distance(x, y):\n",
    "    \"\"\"\n",
    "    Return the number of insertions, deletions and substitutions required to transform x into y.\n",
    "    x and y are two strings. Use the matrix approach here.\n",
    "\n",
    "    x: The first word.\n",
    "    y: The second word.\n",
    "    Return value: The number of insertions, deletions and substitutions to transform the first\n",
    "    word into the second word.\n",
    "    \"\"\"\n",
    "    \"\"\"YOUR CODE HERE\"\"\"\n",
    "    memo = [[0 for j in range(len(y)+1)] for i in range(len(x)+1)]\n",
    "    for i in range(len(x)+1):\n",
    "        memo[i][0] = i\n",
    "    for j in range(1, len(y)+1):\n",
    "        memo[0][j] = j\n",
    "    for i in range(1, len(x)+1):\n",
    "        for j in range(1, len(y)+1):\n",
    "            memo[i][j] = min(memo[i-1][j] + 1, memo[i][j-1] + 1, int(x[i-1] != y[j-1]) + memo[i-1][j-1])\n",
    "\n",
    "    return memo[len(x)][len(y)]\n",
    "    \"\"\"END OF YOUR CODE\"\"\"\n"
   ]
  },
  {
   "cell_type": "markdown",
   "metadata": {},
   "source": [
    "Run the following cell to verify that your solution is correct."
   ]
  },
  {
   "cell_type": "code",
   "execution_count": 51,
   "metadata": {},
   "outputs": [
    {
     "name": "stdout",
     "output_type": "stream",
     "text": [
      "\n",
      "         _          _                  _           _        \n",
      "        /\\ \\       / /\\               / /\\        / /\\      \n",
      "       /  \\ \\     / /  \\             / /  \\      / /  \\     \n",
      "      / /\\ \\ \\   / / /\\ \\           / / /\\ \\__  / / /\\ \\__  \n",
      "     / / /\\ \\_\\ / / /\\ \\ \\         / / /\\ \\___\\/ / /\\ \\___\\ \n",
      "    / / /_/ / // / /  \\ \\ \\        \\ \\ \\ \\/___/\\ \\ \\ \\/___/ \n",
      "   / / /__\\/ // / /___/ /\\ \\        \\ \\ \\       \\ \\ \\       \n",
      "  / / /_____// / /_____/ /\\ \\   _    \\ \\ \\  _    \\ \\ \\      \n",
      " / / /      / /_________/\\ \\ \\ /_/\\__/ / / /_/\\__/ / /      \n",
      "/ / /      / / /_       __\\ \\_\\ \\/___/ /  \\ \\/___/ /       \n",
      "\\/_/       \\_\\___\\     /____/_/ \\_____\\/    \\_____\\/        \n",
      "                                                            \n",
      "\n"
     ]
    }
   ],
   "source": [
    "import string\n",
    "import random\n",
    "import pylev\n",
    "\n",
    "NUM_TRIALS = 10\n",
    "LETTERS = string.ascii_lowercase\n",
    "MIN_WORD_SIZE = 800\n",
    "MAX_WORD_SIZE = 1000\n",
    "\n",
    "def verify_correctness_of_edit_distance():\n",
    "    letters = string.ascii_lowercase\n",
    "    for i in range(NUM_TRIALS):\n",
    "        word1_size = random.randint(MIN_WORD_SIZE, MAX_WORD_SIZE)\n",
    "        word2_size = random.randint(MIN_WORD_SIZE, MAX_WORD_SIZE)\n",
    "        word1 = ''.join(random.choice(letters) for i in range(word1_size))\n",
    "        word2 = ''.join(random.choice(letters) for i in range(word2_size))\n",
    "        student_distance = edit_distance(word1, word2)\n",
    "        staff_distance = pylev.levenshtein(word1, word2)\n",
    "        if student_distance != staff_distance:\n",
    "            print('FAIL: on input word1=%s, word2=%s, expected %d, got %d'%(word1, word2, staff_distance, student_distance))  \n",
    "        assert staff_distance == student_distance\n",
    "    print(ok)\n",
    "\n",
    "verify_correctness_of_edit_distance()"
   ]
  },
  {
   "cell_type": "markdown",
   "metadata": {},
   "source": [
    "## Knapsack without repetition\n",
    "\n",
    "Now, we will solve the problem called \"Knapsack without repetition\".\n",
    "\n",
    "This is an optimization problem. You are given a list of items, and for each item, you are given its weight and its value. You also have a knapsack and you are given how much weight the knapsack can sustain. The problem is to pack up the knapsack with the items in a way to maximize the total value of items in it so that the total weight of the items does not exceed the limit of the knapsack. In this variation of the problem, which is called \"Knapsack without repetition\", you cannot repeat items, so if you already packed the item number $i$ into the knapsack, you cannot pack it again (in contrast to \"Knapsack with repetition\", in which you can repeat each item any number of times)."
   ]
  },
  {
   "cell_type": "markdown",
   "metadata": {},
   "source": [
    "More formally, you are given an integer $W$ and integers $(w_1, v_1), ..., (w_n, v_n)$ where $w_i$ is the weight of the $i$'th item and $v_i$ is the value of the $i$'th item. You have to find a subset of the items $n_1, ..., n_k$ so that $w_{n_1} + ... + w_{n_k} \\leq W$ and $v_{n_1} + ... + v_{n_k}$ is maximized. Return the total value of this subset of items. You can read more about this problem in section 6.4 of DPV: https://people.eecs.berkeley.edu/~vazirani/algorithms/chap6.pdf ."
   ]
  },
  {
   "cell_type": "code",
   "execution_count": 65,
   "metadata": {},
   "outputs": [],
   "source": [
    "def solve_knapsack(W, w, v):\n",
    "    \"\"\"\n",
    "    Solve the knapsack with repetition problem.\n",
    "    W is the total weight that the knapsack can carry.\n",
    "    w[1...n] is a list that contains the weights of items.\n",
    "    v[1...n] is a list that contains the values of items.\n",
    "    \"\"\"\n",
    "    \"\"\"YOUR CODE HERE\"\"\"\n",
    "    knapsack = [[0 for j in range(len(v)+1)] for i in range(W+1)]\n",
    "\n",
    "    for j in range(0, len(v)):\n",
    "        for weight in range(1, W+1):\n",
    "            index = j\n",
    "            if w[index] > weight:\n",
    "                knapsack[weight][j+1] = knapsack[weight][j]\n",
    "            else:\n",
    "                knapsack[weight][j+1] = max(knapsack[weight][j], knapsack[weight-w[index]][j]+v[index])\n",
    "\n",
    "    return knapsack[W][len(v)]\n",
    "\n",
    "    \"\"\"END OF YOUR CODE\"\"\""
   ]
  },
  {
   "cell_type": "markdown",
   "metadata": {},
   "source": [
    "Run the following cell to verify that your solution is correct. It should not take more than a couple of seconds to run."
   ]
  },
  {
   "cell_type": "code",
   "execution_count": 67,
   "metadata": {},
   "outputs": [
    {
     "name": "stdout",
     "output_type": "stream",
     "text": [
      "\n",
      "         _          _                  _           _        \n",
      "        /\\ \\       / /\\               / /\\        / /\\      \n",
      "       /  \\ \\     / /  \\             / /  \\      / /  \\     \n",
      "      / /\\ \\ \\   / / /\\ \\           / / /\\ \\__  / / /\\ \\__  \n",
      "     / / /\\ \\_\\ / / /\\ \\ \\         / / /\\ \\___\\/ / /\\ \\___\\ \n",
      "    / / /_/ / // / /  \\ \\ \\        \\ \\ \\ \\/___/\\ \\ \\ \\/___/ \n",
      "   / / /__\\/ // / /___/ /\\ \\        \\ \\ \\       \\ \\ \\       \n",
      "  / / /_____// / /_____/ /\\ \\   _    \\ \\ \\  _    \\ \\ \\      \n",
      " / / /      / /_________/\\ \\ \\ /_/\\__/ / / /_/\\__/ / /      \n",
      "/ / /      / / /_       __\\ \\_\\ \\/___/ /  \\ \\/___/ /       \n",
      "\\/_/       \\_\\___\\     /____/_/ \\_____\\/    \\_____\\/        \n",
      "                                                            \n",
      "\n"
     ]
    }
   ],
   "source": [
    "import knapsack\n",
    "\n",
    "NUM_ITEMS = 75\n",
    "MAX_CAPACITY = 100\n",
    "MAX_WEIGHT = 100\n",
    "MAX_VALUE = 100\n",
    "NUM_TRIALS = 10\n",
    "\n",
    "def verify_correctness_of_knapsack():\n",
    "    for i in range(NUM_TRIALS):\n",
    "        weights = [random.randint(1, MAX_WEIGHT) for j in range(NUM_ITEMS)]\n",
    "        values = [random.randint(1, MAX_VALUE) for j in range(NUM_ITEMS)]\n",
    "        our_value = solve_knapsack(MAX_CAPACITY, weights, values)\n",
    "        real_value = knapsack.knapsack(weights, values).solve(MAX_CAPACITY)[0]\n",
    "        if our_value != real_value:\n",
    "            print(\"FAIL: expected %d, got %d\"%(real_value, our_value))\n",
    "        assert our_value == real_value\n",
    "    print(ok)\n",
    "\n",
    "verify_correctness_of_knapsack()    "
   ]
  },
  {
   "cell_type": "markdown",
   "metadata": {},
   "source": [
    "Note that in your implementation, when you referred to subproblems, to compute the dp matrix for the case when you use items $1$ through $j$, you only needed the dp matrix that you computed for items $1$ through $j - 1$. This means that to reduce memory usage, instead of storing the whole dp matrix, you could just store two columns and alternate between them. As a challenge, try implementing knapsack only using $O(W)$ space instead of $O(Wn)$ space by using this optimization. **In a similar way, how would you optimize space usage for the edit distance problem?**"
   ]
  },
  {
   "attachments": {},
   "cell_type": "markdown",
   "metadata": {},
   "source": [
    "image for homework solution:"
   ]
  },
  {
   "cell_type": "code",
   "execution_count": 15,
   "metadata": {},
   "outputs": [
    {
     "data": {
      "image/png": "[encoded data removed]",
      "text/plain": [
       "<Figure size 432x288 with 1 Axes>"
      ]
     },
     "metadata": {
      "needs_background": "light"
     },
     "output_type": "display_data"
    }
   ],
   "source": [
    "import matplotlib.pyplot as plt\n",
    "import numpy as np\n",
    "\n",
    "x1=np.linspace(0,50,200)\n",
    "\n",
    "fig,ax=plt.subplots()\n",
    "\n",
    "y1=-4*x1+80\n",
    "y2=-2/3*x1+30\n",
    "\n",
    "ax.plot(x1,y1,label=r'$4x_1+x_2=80$')\n",
    "ax.plot(x1,y2,label=r'$3x_1+2x_2=90$')\n",
    "\n",
    "y3=np.minimum(y1,y2)\n",
    "plt.fill_between(x1,0,y3,where=y3>0,color='gray')\n",
    "\n",
    "ax.set_xlim(0,35)\n",
    "ax.set_ylim(0,35)\n",
    "ax.set_xlabel(r'$x_1$')\n",
    "ax.set_ylabel(r'$x_2$')\n",
    "ax.legend()\n",
    "plt.show()"
   ]
  },
  {
   "cell_type": "code",
   "execution_count": 99,
   "metadata": {},
   "outputs": [
    {
     "data": {
      "image/png": "[encoded data removed]",
      "text/plain": [
       "<Figure size 432x288 with 2 Axes>"
      ]
     },
     "metadata": {
      "needs_background": "light"
     },
     "output_type": "display_data"
    }
   ],
   "source": [
    "x1= np.arange(0, 36, 0.98)\n",
    "C = 200\n",
    "[x, y] = np.meshgrid(x1, x1)\n",
    "\n",
    "fig,ax=plt.subplots()\n",
    "\n",
    "y1=-4*x1+80\n",
    "y2=-2/3*x1+30\n",
    "\n",
    "ax.plot(x1,y1,label=r'$4x_1+x_2=80$')\n",
    "ax.plot(x1,y2,label=r'$3x_1+2x_2=90$')\n",
    "\n",
    "y3=np.minimum(y1,y2)\n",
    "x[y > y3] = y[y > y3] = 0\n",
    "z = C * x + 30 * y\n",
    "plt.imshow(z, interpolation='nearest')\n",
    "plt.colorbar()\n",
    "plt.tight_layout()\n",
    "plt.fill_between(x1,y3,50,color='white')\n",
    "\n",
    "ax.set_xlim(0,35)\n",
    "ax.set_ylim(0,35)\n",
    "ax.set_xlabel(r'$x_1$')\n",
    "ax.set_ylabel(r'$x_2$')\n",
    "ax.legend()\n",
    "plt.show()"
   ]
  }
 ],
 "metadata": {
  "kernelspec": {
   "display_name": "cs224n",
   "language": "python",
   "name": "python3"
  },
  "language_info": {
   "codemirror_mode": {
    "name": "ipython",
    "version": 3
   },
   "file_extension": ".py",
   "mimetype": "text/x-python",
   "name": "python",
   "nbconvert_exporter": "python",
   "pygments_lexer": "ipython3",
   "version": "3.7.13"
  },
  "orig_nbformat": 4,
  "vscode": {
   "interpreter": {
    "hash": "209412d0a295093ff233f5328fdea8118223a5aeb27eab7b0d5fdeffb79a5daf"
   }
  }
 },
 "nbformat": 4,
 "nbformat_minor": 2
}
