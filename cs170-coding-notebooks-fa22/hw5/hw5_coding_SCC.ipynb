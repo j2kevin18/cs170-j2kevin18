{
 "cells": [
  {
   "cell_type": "markdown",
   "id": "9212fe48-758f-4c42-ac51-a45ec02f0bc2",
   "metadata": {},
   "source": [
    "# SCC Finding (Kosaraju-Sharir Algorithm)\n",
    "\n",
    "Here, we will implement the SCC finding algorithm in DPV, more commonly known as the Kosaraju-Sharir algorithm."
   ]
  },
  {
   "cell_type": "code",
   "execution_count": 1,
   "id": "542f7e66-0b07-434a-8e6d-1377ace52916",
   "metadata": {},
   "outputs": [],
   "source": [
    "import base64\n",
    "import networkx as nx\n",
    "import typing\n",
    "import numpy as np\n",
    "ok = base64.b85decode(b'AmWyU;+BBomVn}xgyNQf;+BBomVn}xgdiZ|mW1M#fZ~>b;+BZwmV_W6AmWyU;+BBomVn}xfZ~>b;+BLUAmWyU;+BBomVn}xfZ~>b;+BLU3gVWCARr*(mWUuAAmWyYAmWygAmWyU;+B9Q;+BBomV_YUmWUwYmWUuAAmWygAmWyYAmWyYARr*(mXII{;+BvgAmWyY;+BBomVn}xfZ~>bARr(h;+BZwmW1M#gyNQj;+BXYARr*(mVn}xgdiXwARr*(mVn}xgdiXw3LqdL;+BXYARr(hARywFgyNQfARr*(mWUwYmVn}xgdiXw;+BXYAmWyQ;+BLUARywFh#(*eAmWyU;+B9QARr(hARywFh#(*!;+BNsmVh82AmWyY;+BBomVn}xfFK|sAmWyY;+BBomVn}xfFK|s3gVWCARr(hARr(hAmWygARr*(mXIJIARywFkRTu+ARr(h;+BvgARr(hAPVA^kRTu+ARr(hARr(hARr(hARr(hARr(hARr(hARr(hARr0~').decode()"
   ]
  },
  {
   "cell_type": "markdown",
   "id": "1c24e1e1-da33-4a1d-a4b7-87e8deb17621",
   "metadata": {},
   "source": [
    "Below is a Graph with iconic SCC generator. It generates 4 possibly strongly connected components ABCD, then add edge AB, AC and BD, CD."
   ]
  },
  {
   "cell_type": "code",
   "execution_count": 2,
   "id": "01458cdf-acc6-41fe-ab26-ef0f3434e6c7",
   "metadata": {},
   "outputs": [],
   "source": [
    "try:\n",
    "    nx.gnp_random_graph(7, 0.65, seed=np.random.default_rng(seed=1145141919), directed=True)\n",
    "    prng = np.random.default_rng(seed=114514)\n",
    "except Exception as e:\n",
    "    prng = np.random.RandomState(seed=1919810)"
   ]
  },
  {
   "cell_type": "code",
   "execution_count": 3,
   "id": "cee44593-2865-4cd5-b105-7b63d6d5eb09",
   "metadata": {},
   "outputs": [],
   "source": [
    "def random_scc_graph():\n",
    "    sizes = [np.random.randint(6, 20) for _ in range(4)]\n",
    "    random_graph1 = nx.gnp_random_graph(sizes[0], 0.65, seed=prng, directed=True)\n",
    "    \n",
    "    random_graph2 = nx.gnp_random_graph(sizes[1], 0.65, seed=prng, directed=True)\n",
    "    nx.relabel_nodes(random_graph2, {i:i + sizes[0] for i in range(sizes[1])}, copy=False)\n",
    "    \n",
    "    random_graph3 = nx.gnp_random_graph(sizes[2], 0.65, seed=prng, directed=True)\n",
    "    nx.relabel_nodes(random_graph3, {i:i + sizes[0] + sizes[1] for i in range(sizes[2])}, copy=False)\n",
    "    \n",
    "    random_graph4 = nx.gnp_random_graph(sizes[3], 0.65, seed=prng, directed=True)\n",
    "    nx.relabel_nodes(random_graph4, {i:i + sizes[0] + sizes[1] + sizes[2] for i in range(sizes[3])}, copy=False)\n",
    "    \n",
    "    random_graph = nx.compose(nx.compose(nx.compose(random_graph1, random_graph2), random_graph3), random_graph4)\n",
    "    random_graph.add_edge(np.random.randint(0, sizes[0]), np.random.randint(sizes[0], sizes[0] + sizes[1]))\n",
    "    random_graph.add_edge(np.random.randint(0, sizes[0]), np.random.randint(sizes[0] + sizes[1], sizes[0] + sizes[1] + sizes[2]))\n",
    "    random_graph.add_edge(np.random.randint(sizes[0], sizes[0] + sizes[1]), np.random.randint(sizes[0] + sizes[1] + sizes[2], sizes[0] + sizes[1] + sizes[2] + sizes[3]))\n",
    "    random_graph.add_edge(np.random.randint(sizes[0] + sizes[1], sizes[0] + sizes[1] + sizes[2]), np.random.randint(sizes[0] + sizes[1] + sizes[2], sizes[0] + sizes[1] + sizes[2] + sizes[3]))\n",
    "    return random_graph"
   ]
  },
  {
   "cell_type": "code",
   "execution_count": 4,
   "id": "0f303547-d8f7-45ae-bfe1-3607572f7281",
   "metadata": {},
   "outputs": [
    {
     "name": "stdout",
     "output_type": "stream",
     "text": [
      "[13, 6, 8, 13]\n"
     ]
    },
    {
     "data": {
      "image/png": "[encoded data removed]",
      "text/plain": [
       "<Figure size 432x288 with 1 Axes>"
      ]
     },
     "metadata": {},
     "output_type": "display_data"
    }
   ],
   "source": [
    "random_graph = random_scc_graph()\n",
    "nx.draw_networkx(random_graph)\n",
    "print([len(c) for c in nx.strongly_connected_components(random_graph)])"
   ]
  },
  {
   "cell_type": "markdown",
   "id": "6f49da7b-f2c4-47c4-ac26-fc78281961e3",
   "metadata": {},
   "source": [
    "## Utilities\n",
    "### Graph Reversal\n",
    "One of the most iconic component in Kosajaru algorithm is graph reversal. Write a function that, given a list of edges, reverse the graph."
   ]
  },
  {
   "cell_type": "code",
   "execution_count": 9,
   "id": "890f8797-2f7d-4ada-b0d6-0d7e456e5f0a",
   "metadata": {},
   "outputs": [],
   "source": [
    "def reverse_graph(g: typing.Set[typing.Tuple[int, int]]) -> typing.Set[typing.Tuple[int, int]]:\n",
    "    # Your code here\n",
    "    res = set(())\n",
    "    for edge in g:\n",
    "        res.add((edge[1], edge[0]))\n",
    "    return res"
   ]
  },
  {
   "cell_type": "code",
   "execution_count": 127,
   "id": "7c06eb8b-29d2-43bb-9f15-735a3bdb0aba",
   "metadata": {},
   "outputs": [
    {
     "name": "stdout",
     "output_type": "stream",
     "text": [
      " ▄▀▀▄▀▀▀▄  ▄▀▀█▄   ▄▀▀▀▀▄  ▄▀▀▀▀▄ \n",
      "█   █   █ ▐ ▄▀ ▀▄ █ █   ▐ █ █   ▐ \n",
      "▐  █▀▀▀▀    █▄▄▄█    ▀▄      ▀▄   \n",
      "   █       ▄▀   █ ▀▄   █  ▀▄   █  \n",
      " ▄▀       █   ▄▀   █▀▀▀    █▀▀▀   \n",
      "█         ▐   ▐    ▐       ▐      \n",
      "▐                                 \n",
      "\n",
      "\n"
     ]
    }
   ],
   "source": [
    "for _ in range(50):\n",
    "    random_graph = nx.gnp_random_graph(50, 0.6, seed=1145141919, directed=True)\n",
    "    gre0 = reverse_graph(set(random_graph.edges))\n",
    "    gre1 = set(random_graph.reverse().edges)\n",
    "    assert gre0 == gre1\n",
    "print(ok)"
   ]
  },
  {
   "cell_type": "markdown",
   "id": "a8875cec-f675-4699-bc05-f0e7ef3843c3",
   "metadata": {},
   "source": [
    "Like what Prof. Hilfinger's CS61B did, as you implemented this function you are then free to use implementations in `networkx`: instead of using `reverse_graph`, you can also use [`nx.DiGraph.reverse`](https://networkx.org/documentation/stable/reference/classes/generated/networkx.DiGraph.reverse.html?highlight=reverse#digraph-reverse) (click for documentation)."
   ]
  },
  {
   "cell_type": "markdown",
   "id": "34217f46-dea1-4db6-98a3-e94fb29458c9",
   "metadata": {},
   "source": [
    "### DFS\n",
    "Another utility you will need is hyped up DFS: you will need one that records `post` number when traversing the graph, and a separate `explore(v)` function that traverses a sink SCC.  \n",
    "\n",
    "You might want to define a helper function in `dfs()`, and use `nonlocal` to modify variables in `dfs()`'s scope."
   ]
  },
  {
   "cell_type": "code",
   "execution_count": 238,
   "id": "45e56c92-de1f-4c9d-85dd-bdc3fb613692",
   "metadata": {},
   "outputs": [],
   "source": [
    "def reverse_graph_dict(g: typing.Dict[int, list]) -> typing.Dict[int, list]:\n",
    "    dict_res = {}\n",
    "    g_set = set([(u, v) for u in g.keys() for v in g[u]])\n",
    "    g_set_reverse = reverse_graph(g_set)\n",
    "    \n",
    "    for v in g.keys():\n",
    "        dict_res[v] = []\n",
    "    for v, u in g_set_reverse:\n",
    "        dict_res[v].append(u)\n",
    "    \n",
    "    return dict_res\n",
    "\n",
    "# Given a graph G and a vertex v, return all vertices reachable from v\n",
    "# Return: a set of integers that contains all vertices reachable from v\n",
    "def explore(g, v) -> typing.Set[int]:\n",
    "    # Your code here\n",
    "    visited = {v : False for v in g.keys()}\n",
    "    visited_reverse = {v : False for v in g.keys()}\n",
    "    g_reverse = reverse_graph_dict(g)\n",
    "\n",
    "    def explore(v, visited, g):\n",
    "        visited[v] = True\n",
    "        res = {v}\n",
    "\n",
    "        for node in g[v]:\n",
    "            if visited[node] == False:\n",
    "                res = res.union(explore(node, visited, g))\n",
    "\n",
    "        return res\n",
    "    \n",
    "    res = explore(v, visited, g)\n",
    "    res_reverse = explore(v, visited_reverse, g_reverse)\n",
    "    return res.intersection(res_reverse)\n",
    "\n",
    "    \n",
    "\n",
    "# Given a graph, do DFS and return a tuple with all vertices as key and their post number as value\n",
    "def dfs(g) -> typing.Dict[int, int]:\n",
    "    # Your code here\n",
    "    visited = {v : False for v in g.keys()}\n",
    "    pre = {v : 0 for v in g.keys()}\n",
    "    post = {v : 0 for v in g.keys()}\n",
    "    clock = 0\n",
    "\n",
    "    def previsit(v):\n",
    "        nonlocal post, clock\n",
    "        pre[v] = clock\n",
    "        clock += 1\n",
    "\n",
    "\n",
    "    def postvisit(v):\n",
    "        nonlocal post, clock\n",
    "        post[v] = clock\n",
    "        clock += 1\n",
    "\n",
    "    def explore(v):\n",
    "        nonlocal visited, g\n",
    "        visited[v] = True\n",
    "\n",
    "        previsit(v)\n",
    "        \n",
    "        for node in g[v]:\n",
    "            if visited[node] == False:\n",
    "                explore(node)\n",
    "\n",
    "        postvisit(v)\n",
    "    \n",
    "    for v in g.keys():\n",
    "        if visited[v] == False:\n",
    "            explore(v)\n",
    "\n",
    "    return post\n",
    "        "
   ]
  },
  {
   "cell_type": "markdown",
   "id": "44a91724-b0c9-4ef8-9752-2b3eaeaf9a44",
   "metadata": {},
   "source": [
    "For the sake of abstraction, the AG will only check if you can correctly find all vertices in the sink SCC."
   ]
  },
  {
   "cell_type": "code",
   "execution_count": 236,
   "id": "01809459-7f60-4c17-9674-53acc95e4254",
   "metadata": {},
   "outputs": [
    {
     "name": "stdout",
     "output_type": "stream",
     "text": [
      " ▄▀▀▄▀▀▀▄  ▄▀▀█▄   ▄▀▀▀▀▄  ▄▀▀▀▀▄ \n",
      "█   █   █ ▐ ▄▀ ▀▄ █ █   ▐ █ █   ▐ \n",
      "▐  █▀▀▀▀    █▄▄▄█    ▀▄      ▀▄   \n",
      "   █       ▄▀   █ ▀▄   █  ▀▄   █  \n",
      " ▄▀       █   ▄▀   █▀▀▀    █▀▀▀   \n",
      "█         ▐   ▐    ▐       ▐      \n",
      "▐                                 \n",
      "\n",
      "\n"
     ]
    }
   ],
   "source": [
    "for _ in range(100):\n",
    "    random_graph = random_scc_graph()\n",
    "    sccs = {frozenset(c) for c in nx.strongly_connected_components(random_graph)}\n",
    "    scc = explore(nx.to_dict_of_lists(random_graph), len(random_graph.nodes) - 1)\n",
    "    # if scc not in sccs:\n",
    "    #     print(scc, sccs)\n",
    "    assert scc in sccs\n",
    "print(ok)"
   ]
  },
  {
   "cell_type": "markdown",
   "id": "05c53430-f71f-4ebb-8c2a-7e3e44865dde",
   "metadata": {},
   "source": [
    "## The Algorithm\n",
    "Now, implement Kosaraju-Sharir algorithm. Essentially, what it does is:\n",
    "\n",
    "0. Do DFS on $G^R$.\n",
    "1. Find the vertex $v$ with highest post number in $G^R$. It must reside in a source SCC in $G^R$ and sink SCC in $G$.\n",
    "2. `explore` from $v$ to extract all vertices in this SCC and only in this SCC.\n",
    "3. (Effectively) remove this SCC (you can do it by maintaining a \"disabled vertices\" set).\n",
    "4. Repeat 1-3, until the graph is empty.\n",
    "\n",
    "You should return a list of sets where each set is the vertices that a SCC contains.\n",
    "\n",
    "Like above, you can freely use `nx.dfs_postorder_nodes` as you correctly implemented DFS."
   ]
  },
  {
   "cell_type": "code",
   "execution_count": 239,
   "id": "01702eaa-cde3-46e8-929e-ae594f741256",
   "metadata": {},
   "outputs": [],
   "source": [
    "def kosaraju(g) -> typing.List[typing.Set]:\n",
    "    # Your code here\n",
    "    sccs = []\n",
    "    gR = reverse_graph_dict(g)\n",
    "    dict_v_to_post =dfs(gR)\n",
    "    while dict_v_to_post:\n",
    "        dict_post_to_v = dict([(post, v) for (v, post) in dict_v_to_post.items()])\n",
    "        max_post_v = dict_post_to_v[max(dict_post_to_v.keys())]\n",
    "        scc = explore(gR, max_post_v)\n",
    "        sccs.append(scc)\n",
    "        for v in scc:\n",
    "            del dict_v_to_post[v]\n",
    "    return sccs"
   ]
  },
  {
   "cell_type": "code",
   "execution_count": 240,
   "id": "1f168ba7-a395-4549-86a2-0670e6b1da42",
   "metadata": {},
   "outputs": [
    {
     "name": "stdout",
     "output_type": "stream",
     "text": [
      " ▄▀▀▄▀▀▀▄  ▄▀▀█▄   ▄▀▀▀▀▄  ▄▀▀▀▀▄ \n",
      "█   █   █ ▐ ▄▀ ▀▄ █ █   ▐ █ █   ▐ \n",
      "▐  █▀▀▀▀    █▄▄▄█    ▀▄      ▀▄   \n",
      "   █       ▄▀   █ ▀▄   █  ▀▄   █  \n",
      " ▄▀       █   ▄▀   █▀▀▀    █▀▀▀   \n",
      "█         ▐   ▐    ▐       ▐      \n",
      "▐                                 \n",
      "\n",
      "\n"
     ]
    }
   ],
   "source": [
    "for _ in range(100):\n",
    "    random_graph = random_scc_graph()\n",
    "    sccs_tarjan = {frozenset(c) for c in nx.strongly_connected_components(random_graph)}\n",
    "    sccs_kosaraju = {frozenset(c) for c in kosaraju(nx.to_dict_of_lists(random_graph))}\n",
    "    assert sccs_tarjan == sccs_kosaraju\n",
    "for _ in range(100):\n",
    "    random_graph = nx.gnp_random_graph(100, 0.6, directed=True)   \n",
    "    sccs_tarjan = {frozenset(c) for c in nx.strongly_connected_components(random_graph)}\n",
    "    sccs_kosaraju = {frozenset(c) for c in kosaraju(nx.to_dict_of_lists(random_graph))}\n",
    "    assert sccs_tarjan == sccs_kosaraju\n",
    "\n",
    "print(ok)"
   ]
  },
  {
   "cell_type": "markdown",
   "id": "5c172760-4379-443e-b3fe-19a59d256681",
   "metadata": {},
   "source": [
    "## A Question\n",
    "Now that you completed the algorithm you are free to use `nx.kosaraju_strongly_connected_components`  \n",
    "This question is adapted from Question A in ICPC 2020 North America Qualifier."
   ]
  },
  {
   "cell_type": "markdown",
   "id": "8a199c47-13b0-4e59-a4b3-e379fd094311",
   "metadata": {},
   "source": [
    "#### Problem Statement\n",
    "Characters in Star Wars each speak a language, but they typically understand a lot more languages that they don’t or can’t speak. For example, Han Solo might speak in Galactic Basic and Chewbacca might respond in Shyriiwook; since they each understand the language spoken by the other, they can communicate just fine like this.\n",
    "\n",
    "We’ll say two characters can converse if they can exchange messages in both directions. Even if they didn’t understand each other’s languages, two characters can still converse as long as there is a sequence of characters who could translate for them through a sequence of intermediate languages. For example, Jabba the Hutt and R2D2 might be able to converse with some help. Maybe when Jabba spoke in Huttese, Boba Fett could translate to Basic, which R2D2 understands. When R2D2 replies in Binary, maybe Luke could translate to Basic and then Bib Fortuna could translate back to Huttese for Jabba.\n",
    "\n",
    "In Star Wars Episode IV, there’s a scene with a lot of different characters in a cantina, all speaking different languages. Some pairs of characters may not be able to converse (even if others in the cantina are willing to serve as translators). This can lead to all kinds of problems, fights, questions over who shot first, etc. You’re going to help by asking some of the patrons to leave. The cantina is a business, so you’d like to ask as few as possible to leave. You need to determine the size of the smallest set of characters $S$ such that if all the characters in $S$ leave, all pairs of remaining characters can converse.\n",
    "\n",
    "For example, in the first sample input below, Chewbacca and Grakchawwaa can converse, but nobody else understands Shyriiwook, so they can’t converse with others in the bar. If they leave, everyone else can converse. In the second sample input, Fran and Ian can converse, as can Polly and Spencer, but no other pairs of characters can converse, so either everyone but Polly and Spencer must leave or everyone but Fran and Ian.\n",
    "\n",
    "#### Input\n",
    "Input starts with a positive integer, $1\\leq N \\leq 100$, the number of characters in the cantina. This is followed by $N$ lines, each line describing a character. Each of these $N$ lines starts with the character’s name (which is distinct), then the language that character speaks, then a list of $0$ to $20$ additional languages the character understands but doesn’t speak. All characters understand the language they speak. All character and language names are sequences of $1$ to $15$ letters (a-z and A-Z), numbers, and hyphens. Character names and languages are separated by single spaces.\n",
    "\n",
    "#### Output\n",
    "Print a line of output giving the size of the smallest set of characters $S$ that should be asked to leave so that all remaining pairs of characters can converse.\n",
    "\n",
    "#### Samples\n",
    "##### Sample Input 1\n",
    "```\n",
    "7\n",
    "Jabba-the-Hutt Huttese\n",
    "Bib-Fortuna Huttese Basic\n",
    "Boba-Fett Basic Huttese\n",
    "Chewbacca Shyriiwook Basic\n",
    "Luke Basic Jawaese Binary\n",
    "Grakchawwaa Shyriiwook Basic Jawaese\n",
    "R2D2 Binary Basic\n",
    "```\n",
    "##### Sample Output 1\n",
    "```\n",
    "2\n",
    "```\n",
    "\n",
    "##### Sample Input 2\n",
    "```\n",
    "6\n",
    "Fran French Italian\n",
    "Enid English German\n",
    "George German Italian\n",
    "Ian Italian French Spanish\n",
    "Spencer Spanish Portugese\n",
    "Polly Portugese Spanish\n",
    "```\n",
    "##### Sample Output 2\n",
    "```\n",
    "4\n",
    "```"
   ]
  },
  {
   "cell_type": "markdown",
   "id": "8e7c24b6-072e-4d41-98c3-81e4347dbb07",
   "metadata": {},
   "source": [
    "Below is a playground which you can test your implementation of this question if you'd like to. You can also register an account on Kattis and submit the question [here](https://open.kattis.com/problems/cantinaofbabel) (but you can't use `networkx` there)"
   ]
  },
  {
   "cell_type": "code",
   "execution_count": null,
   "id": "5f0ce22a-e3ae-4ea8-8d12-4c9ddf0f29c3",
   "metadata": {},
   "outputs": [],
   "source": [
    "def solution():\n",
    "    pass"
   ]
  }
 ],
 "metadata": {
  "kernelspec": {
   "display_name": "cs224n",
   "language": "python",
   "name": "python3"
  },
  "language_info": {
   "codemirror_mode": {
    "name": "ipython",
    "version": 3
   },
   "file_extension": ".py",
   "mimetype": "text/x-python",
   "name": "python",
   "nbconvert_exporter": "python",
   "pygments_lexer": "ipython3",
   "version": "3.7.13"
  },
  "vscode": {
   "interpreter": {
    "hash": "209412d0a295093ff233f5328fdea8118223a5aeb27eab7b0d5fdeffb79a5daf"
   }
  }
 },
 "nbformat": 4,
 "nbformat_minor": 5
}
